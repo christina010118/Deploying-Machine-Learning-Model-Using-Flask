{
 "cells": [
  {
   "cell_type": "markdown",
   "id": "f5680d2c",
   "metadata": {
    "id": "f5680d2c"
   },
   "source": [
    "# 1. Preprocessing\n",
    "\n",
    "## 1-a. Import Data and libraries"
   ]
  },
  {
   "cell_type": "code",
   "execution_count": null,
   "id": "38d9c9b8",
   "metadata": {
    "id": "38d9c9b8"
   },
   "outputs": [],
   "source": [
    "#Loading library\n",
    "import pandas as pd\n",
    "import matplotlib.pyplot as plt\n",
    "import seaborn as sns\n",
    "import re\n",
    "import time\n",
    "import numpy as np"
   ]
  },
  {
   "cell_type": "code",
   "execution_count": null,
   "id": "85cde8ea",
   "metadata": {
    "id": "85cde8ea",
    "outputId": "27251a0f-f7d2-425a-d34d-6a3721d95d7b"
   },
   "outputs": [
    {
     "data": {
      "text/html": [
       "<div>\n",
       "<style scoped>\n",
       "    .dataframe tbody tr th:only-of-type {\n",
       "        vertical-align: middle;\n",
       "    }\n",
       "\n",
       "    .dataframe tbody tr th {\n",
       "        vertical-align: top;\n",
       "    }\n",
       "\n",
       "    .dataframe thead th {\n",
       "        text-align: right;\n",
       "    }\n",
       "</style>\n",
       "<table border=\"1\" class=\"dataframe\">\n",
       "  <thead>\n",
       "    <tr style=\"text-align: right;\">\n",
       "      <th></th>\n",
       "      <th>category</th>\n",
       "      <th>viewCount</th>\n",
       "      <th>likeCount</th>\n",
       "      <th>commentCount</th>\n",
       "      <th>duration</th>\n",
       "      <th>made_for_kids</th>\n",
       "      <th>viewPerComment</th>\n",
       "      <th>tagsCount</th>\n",
       "      <th>year</th>\n",
       "      <th>weekday</th>\n",
       "      <th>month</th>\n",
       "      <th>time_of_day</th>\n",
       "      <th>title_length</th>\n",
       "    </tr>\n",
       "  </thead>\n",
       "  <tbody>\n",
       "    <tr>\n",
       "      <th>0</th>\n",
       "      <td>5</td>\n",
       "      <td>2</td>\n",
       "      <td>39271</td>\n",
       "      <td>2538</td>\n",
       "      <td>4</td>\n",
       "      <td>0</td>\n",
       "      <td>165.401103</td>\n",
       "      <td>8</td>\n",
       "      <td>2023</td>\n",
       "      <td>0</td>\n",
       "      <td>5</td>\n",
       "      <td>0</td>\n",
       "      <td>18</td>\n",
       "    </tr>\n",
       "    <tr>\n",
       "      <th>1</th>\n",
       "      <td>5</td>\n",
       "      <td>4</td>\n",
       "      <td>156694</td>\n",
       "      <td>6633</td>\n",
       "      <td>3</td>\n",
       "      <td>0</td>\n",
       "      <td>364.847128</td>\n",
       "      <td>6</td>\n",
       "      <td>2023</td>\n",
       "      <td>6</td>\n",
       "      <td>5</td>\n",
       "      <td>0</td>\n",
       "      <td>35</td>\n",
       "    </tr>\n",
       "    <tr>\n",
       "      <th>2</th>\n",
       "      <td>5</td>\n",
       "      <td>4</td>\n",
       "      <td>78836</td>\n",
       "      <td>2315</td>\n",
       "      <td>5</td>\n",
       "      <td>0</td>\n",
       "      <td>742.543413</td>\n",
       "      <td>3</td>\n",
       "      <td>2023</td>\n",
       "      <td>5</td>\n",
       "      <td>5</td>\n",
       "      <td>1</td>\n",
       "      <td>34</td>\n",
       "    </tr>\n",
       "    <tr>\n",
       "      <th>3</th>\n",
       "      <td>5</td>\n",
       "      <td>4</td>\n",
       "      <td>119458</td>\n",
       "      <td>5293</td>\n",
       "      <td>2</td>\n",
       "      <td>0</td>\n",
       "      <td>390.751181</td>\n",
       "      <td>9</td>\n",
       "      <td>2023</td>\n",
       "      <td>4</td>\n",
       "      <td>5</td>\n",
       "      <td>0</td>\n",
       "      <td>30</td>\n",
       "    </tr>\n",
       "    <tr>\n",
       "      <th>4</th>\n",
       "      <td>5</td>\n",
       "      <td>4</td>\n",
       "      <td>113299</td>\n",
       "      <td>4649</td>\n",
       "      <td>2</td>\n",
       "      <td>0</td>\n",
       "      <td>440.775436</td>\n",
       "      <td>9</td>\n",
       "      <td>2023</td>\n",
       "      <td>3</td>\n",
       "      <td>5</td>\n",
       "      <td>1</td>\n",
       "      <td>16</td>\n",
       "    </tr>\n",
       "  </tbody>\n",
       "</table>\n",
       "</div>"
      ],
      "text/plain": [
       "   category  viewCount  likeCount  commentCount  duration  made_for_kids  \\\n",
       "0         5          2      39271          2538         4              0   \n",
       "1         5          4     156694          6633         3              0   \n",
       "2         5          4      78836          2315         5              0   \n",
       "3         5          4     119458          5293         2              0   \n",
       "4         5          4     113299          4649         2              0   \n",
       "\n",
       "   viewPerComment  tagsCount  year  weekday  month  time_of_day  title_length  \n",
       "0      165.401103          8  2023        0      5            0            18  \n",
       "1      364.847128          6  2023        6      5            0            35  \n",
       "2      742.543413          3  2023        5      5            1            34  \n",
       "3      390.751181          9  2023        4      5            0            30  \n",
       "4      440.775436          9  2023        3      5            1            16  "
      ]
     },
     "execution_count": 2,
     "metadata": {},
     "output_type": "execute_result"
    }
   ],
   "source": [
    "df = pd.read_csv(\"cleaned_data.csv\",index_col=0)\n",
    "df = df.drop('time',axis=1)\n",
    "df.head()"
   ]
  },
  {
   "cell_type": "code",
   "execution_count": null,
   "id": "36ffa9ed",
   "metadata": {
    "id": "36ffa9ed",
    "outputId": "6b996ece-148f-4bfb-910d-c28b913b3b5f"
   },
   "outputs": [
    {
     "data": {
      "text/html": [
       "<div>\n",
       "<style scoped>\n",
       "    .dataframe tbody tr th:only-of-type {\n",
       "        vertical-align: middle;\n",
       "    }\n",
       "\n",
       "    .dataframe tbody tr th {\n",
       "        vertical-align: top;\n",
       "    }\n",
       "\n",
       "    .dataframe thead th {\n",
       "        text-align: right;\n",
       "    }\n",
       "</style>\n",
       "<table border=\"1\" class=\"dataframe\">\n",
       "  <thead>\n",
       "    <tr style=\"text-align: right;\">\n",
       "      <th></th>\n",
       "      <th>category</th>\n",
       "      <th>viewCount</th>\n",
       "      <th>likeCount</th>\n",
       "      <th>commentCount</th>\n",
       "      <th>duration</th>\n",
       "      <th>made_for_kids</th>\n",
       "      <th>viewPerComment</th>\n",
       "      <th>tagsCount</th>\n",
       "      <th>year</th>\n",
       "      <th>weekday</th>\n",
       "      <th>month</th>\n",
       "      <th>time_of_day</th>\n",
       "      <th>title_length</th>\n",
       "    </tr>\n",
       "  </thead>\n",
       "  <tbody>\n",
       "    <tr>\n",
       "      <th>count</th>\n",
       "      <td>34621.000000</td>\n",
       "      <td>34621.000000</td>\n",
       "      <td>3.462100e+04</td>\n",
       "      <td>34621.000000</td>\n",
       "      <td>34621.000000</td>\n",
       "      <td>34621.000000</td>\n",
       "      <td>34621.000000</td>\n",
       "      <td>34621.000000</td>\n",
       "      <td>34621.000000</td>\n",
       "      <td>34621.000000</td>\n",
       "      <td>34621.000000</td>\n",
       "      <td>34621.000000</td>\n",
       "      <td>34621.000000</td>\n",
       "    </tr>\n",
       "    <tr>\n",
       "      <th>mean</th>\n",
       "      <td>6.226972</td>\n",
       "      <td>3.089310</td>\n",
       "      <td>7.358566e+04</td>\n",
       "      <td>4437.750296</td>\n",
       "      <td>1.826926</td>\n",
       "      <td>0.000289</td>\n",
       "      <td>883.064358</td>\n",
       "      <td>15.499928</td>\n",
       "      <td>2017.403223</td>\n",
       "      <td>2.958378</td>\n",
       "      <td>6.479160</td>\n",
       "      <td>0.827821</td>\n",
       "      <td>50.488721</td>\n",
       "    </tr>\n",
       "    <tr>\n",
       "      <th>std</th>\n",
       "      <td>3.528896</td>\n",
       "      <td>1.501606</td>\n",
       "      <td>2.058486e+05</td>\n",
       "      <td>10732.664863</td>\n",
       "      <td>1.433032</td>\n",
       "      <td>0.016993</td>\n",
       "      <td>1395.020067</td>\n",
       "      <td>11.285734</td>\n",
       "      <td>3.458414</td>\n",
       "      <td>1.949366</td>\n",
       "      <td>3.455963</td>\n",
       "      <td>0.611762</td>\n",
       "      <td>22.123522</td>\n",
       "    </tr>\n",
       "    <tr>\n",
       "      <th>min</th>\n",
       "      <td>0.000000</td>\n",
       "      <td>0.000000</td>\n",
       "      <td>0.000000e+00</td>\n",
       "      <td>0.000000</td>\n",
       "      <td>0.000000</td>\n",
       "      <td>0.000000</td>\n",
       "      <td>0.000000</td>\n",
       "      <td>0.000000</td>\n",
       "      <td>2008.000000</td>\n",
       "      <td>0.000000</td>\n",
       "      <td>1.000000</td>\n",
       "      <td>0.000000</td>\n",
       "      <td>1.000000</td>\n",
       "    </tr>\n",
       "    <tr>\n",
       "      <th>25%</th>\n",
       "      <td>5.000000</td>\n",
       "      <td>2.000000</td>\n",
       "      <td>4.579000e+03</td>\n",
       "      <td>337.000000</td>\n",
       "      <td>1.000000</td>\n",
       "      <td>0.000000</td>\n",
       "      <td>313.686341</td>\n",
       "      <td>7.000000</td>\n",
       "      <td>2015.000000</td>\n",
       "      <td>1.000000</td>\n",
       "      <td>3.000000</td>\n",
       "      <td>0.000000</td>\n",
       "      <td>35.000000</td>\n",
       "    </tr>\n",
       "    <tr>\n",
       "      <th>50%</th>\n",
       "      <td>5.000000</td>\n",
       "      <td>3.000000</td>\n",
       "      <td>2.400400e+04</td>\n",
       "      <td>1487.000000</td>\n",
       "      <td>2.000000</td>\n",
       "      <td>0.000000</td>\n",
       "      <td>540.695203</td>\n",
       "      <td>14.000000</td>\n",
       "      <td>2018.000000</td>\n",
       "      <td>3.000000</td>\n",
       "      <td>6.000000</td>\n",
       "      <td>1.000000</td>\n",
       "      <td>48.000000</td>\n",
       "    </tr>\n",
       "    <tr>\n",
       "      <th>75%</th>\n",
       "      <td>7.000000</td>\n",
       "      <td>4.000000</td>\n",
       "      <td>7.497000e+04</td>\n",
       "      <td>4660.000000</td>\n",
       "      <td>2.000000</td>\n",
       "      <td>0.000000</td>\n",
       "      <td>1011.403274</td>\n",
       "      <td>23.000000</td>\n",
       "      <td>2020.000000</td>\n",
       "      <td>5.000000</td>\n",
       "      <td>9.000000</td>\n",
       "      <td>1.000000</td>\n",
       "      <td>64.000000</td>\n",
       "    </tr>\n",
       "    <tr>\n",
       "      <th>max</th>\n",
       "      <td>14.000000</td>\n",
       "      <td>9.000000</td>\n",
       "      <td>1.219854e+07</td>\n",
       "      <td>617657.000000</td>\n",
       "      <td>5.000000</td>\n",
       "      <td>1.000000</td>\n",
       "      <td>89817.454545</td>\n",
       "      <td>83.000000</td>\n",
       "      <td>2023.000000</td>\n",
       "      <td>6.000000</td>\n",
       "      <td>12.000000</td>\n",
       "      <td>2.000000</td>\n",
       "      <td>101.000000</td>\n",
       "    </tr>\n",
       "  </tbody>\n",
       "</table>\n",
       "</div>"
      ],
      "text/plain": [
       "           category     viewCount     likeCount   commentCount      duration  \\\n",
       "count  34621.000000  34621.000000  3.462100e+04   34621.000000  34621.000000   \n",
       "mean       6.226972      3.089310  7.358566e+04    4437.750296      1.826926   \n",
       "std        3.528896      1.501606  2.058486e+05   10732.664863      1.433032   \n",
       "min        0.000000      0.000000  0.000000e+00       0.000000      0.000000   \n",
       "25%        5.000000      2.000000  4.579000e+03     337.000000      1.000000   \n",
       "50%        5.000000      3.000000  2.400400e+04    1487.000000      2.000000   \n",
       "75%        7.000000      4.000000  7.497000e+04    4660.000000      2.000000   \n",
       "max       14.000000      9.000000  1.219854e+07  617657.000000      5.000000   \n",
       "\n",
       "       made_for_kids  viewPerComment     tagsCount          year  \\\n",
       "count   34621.000000    34621.000000  34621.000000  34621.000000   \n",
       "mean        0.000289      883.064358     15.499928   2017.403223   \n",
       "std         0.016993     1395.020067     11.285734      3.458414   \n",
       "min         0.000000        0.000000      0.000000   2008.000000   \n",
       "25%         0.000000      313.686341      7.000000   2015.000000   \n",
       "50%         0.000000      540.695203     14.000000   2018.000000   \n",
       "75%         0.000000     1011.403274     23.000000   2020.000000   \n",
       "max         1.000000    89817.454545     83.000000   2023.000000   \n",
       "\n",
       "            weekday         month   time_of_day  title_length  \n",
       "count  34621.000000  34621.000000  34621.000000  34621.000000  \n",
       "mean       2.958378      6.479160      0.827821     50.488721  \n",
       "std        1.949366      3.455963      0.611762     22.123522  \n",
       "min        0.000000      1.000000      0.000000      1.000000  \n",
       "25%        1.000000      3.000000      0.000000     35.000000  \n",
       "50%        3.000000      6.000000      1.000000     48.000000  \n",
       "75%        5.000000      9.000000      1.000000     64.000000  \n",
       "max        6.000000     12.000000      2.000000    101.000000  "
      ]
     },
     "execution_count": 3,
     "metadata": {},
     "output_type": "execute_result"
    }
   ],
   "source": [
    "df.describe()"
   ]
  },
  {
   "cell_type": "markdown",
   "id": "e15780db",
   "metadata": {
    "id": "e15780db"
   },
   "source": [
    "#### KeyTable for references:\n",
    "\n",
    "1. Category\n",
    "![image.png](attachment:image.png)\n",
    "\n",
    "2. Duration\n",
    "\n",
    "![image-3.png](attachment:image-3.png)\n",
    "\n",
    "3. View Counts (Response Variable)\n",
    "\n",
    "![image-2.png](attachment:image-2.png)"
   ]
  },
  {
   "cell_type": "markdown",
   "id": "1d15566a",
   "metadata": {
    "id": "1d15566a"
   },
   "source": [
    "## 1-b. Train, test split"
   ]
  },
  {
   "cell_type": "code",
   "execution_count": null,
   "id": "74e21da7",
   "metadata": {
    "id": "74e21da7"
   },
   "outputs": [],
   "source": [
    "#split the data into train and test set\n",
    "\n",
    "from sklearn.model_selection import train_test_split\n",
    "\n",
    "np.random.seed(1111)\n",
    "raw_train, raw_test = train_test_split(df, test_size = 0.2)"
   ]
  },
  {
   "cell_type": "code",
   "execution_count": null,
   "id": "2e116f02",
   "metadata": {
    "id": "2e116f02"
   },
   "outputs": [],
   "source": [
    "X = df.drop(['viewCount'], axis = 1)\n",
    "y = df['viewCount']\n",
    "\n",
    "X_train, X_test, y_train,  y_test  = train_test_split(X, y, test_size = 0.2)"
   ]
  },
  {
   "cell_type": "code",
   "execution_count": null,
   "id": "daf2b09a",
   "metadata": {
    "id": "daf2b09a",
    "outputId": "cec4012c-8c82-4f8b-a9f8-c107d6958691"
   },
   "outputs": [
    {
     "data": {
      "text/plain": [
       "(27696,)"
      ]
     },
     "execution_count": 6,
     "metadata": {},
     "output_type": "execute_result"
    }
   ],
   "source": [
    "y_train.shape"
   ]
  },
  {
   "cell_type": "markdown",
   "id": "c8cfef76",
   "metadata": {
    "id": "c8cfef76"
   },
   "source": [
    "## 1-c. Scaling data"
   ]
  },
  {
   "cell_type": "code",
   "execution_count": null,
   "id": "008a33bb",
   "metadata": {
    "id": "008a33bb"
   },
   "outputs": [],
   "source": [
    "from sklearn.preprocessing import MinMaxScaler\n",
    "\n",
    "scaler = MinMaxScaler()\n",
    "df_scaled = scaler.fit_transform(df)\n"
   ]
  },
  {
   "cell_type": "markdown",
   "id": "503c8ddf",
   "metadata": {
    "id": "503c8ddf"
   },
   "source": [
    "# 2. Model Implementation\n",
    "\n",
    "## 2-a. Random Forest"
   ]
  },
  {
   "cell_type": "markdown",
   "id": "7743d41c",
   "metadata": {
    "id": "7743d41c"
   },
   "source": [
    "**Initial Model**"
   ]
  },
  {
   "cell_type": "code",
   "execution_count": null,
   "id": "3db705f7",
   "metadata": {
    "id": "3db705f7"
   },
   "outputs": [],
   "source": [
    "# Initial Model \n",
    "from sklearn.ensemble import RandomForestClassifier\n",
    "RF = RandomForestClassifier(n_estimators=300, \n",
    "                             max_depth=3)\n",
    "\n",
    "# Fit RandomForestClassifier\n",
    "RF.fit(X_train, y_train)\n",
    "# Predict the test set labels\n",
    "y_pred = RF.predict(X_test)"
   ]
  },
  {
   "cell_type": "code",
   "execution_count": null,
   "id": "9a6a2778",
   "metadata": {
    "id": "9a6a2778",
    "outputId": "7324e5ea-c946-4da7-d9e0-753d468daa9d"
   },
   "outputs": [
    {
     "name": "stdout",
     "output_type": "stream",
     "text": [
      "Test score:  0.6462093862815884\n",
      "Training score:  0.6547876949740035\n"
     ]
    }
   ],
   "source": [
    "print(\"Test score: \",RF.score(X_test, y_test))\n",
    "print(\"Training score: \", RF.score(X_train, y_train))"
   ]
  },
  {
   "cell_type": "markdown",
   "id": "99c56f70",
   "metadata": {
    "id": "99c56f70"
   },
   "source": [
    "**Hyperparameter tuning with cross validation**"
   ]
  },
  {
   "cell_type": "code",
   "execution_count": null,
   "id": "90c84e1f",
   "metadata": {
    "id": "90c84e1f",
    "outputId": "de246f24-04bd-428d-978c-2ee45ab2e6af"
   },
   "outputs": [
    {
     "name": "stderr",
     "output_type": "stream",
     "text": [
      "/Users/oliviawang/opt/anaconda3/envs/tf/lib/python3.10/site-packages/sklearn/model_selection/_split.py:684: UserWarning: The least populated class in y has only 4 members, which is less than n_splits=5.\n",
      "  warnings.warn(\n"
     ]
    },
    {
     "name": "stdout",
     "output_type": "stream",
     "text": [
      "Test score:  0.9189891696750903\n",
      "Training score:  1.0\n",
      "Best parameters:  {'max_depth': None, 'n_estimators': 300}\n"
     ]
    }
   ],
   "source": [
    "from sklearn.model_selection import GridSearchCV\n",
    "from sklearn.ensemble import RandomForestClassifier\n",
    "\n",
    "# Hyperameter grid\n",
    "param_grid = {\n",
    "    'n_estimators': [100, 200, 300, 400, 500],\n",
    "    'max_depth': [3, 6, 9, 12, None]\n",
    "}\n",
    "\n",
    "RF = RandomForestClassifier()\n",
    "grid_search = GridSearchCV(RF, param_grid, cv=5)\n",
    "grid_search.fit(X_train, y_train)\n",
    "\n",
    "best_RF = grid_search.best_estimator_\n",
    "y_pred = best_RF.predict(X_test)\n",
    "\n",
    "# Evaluate\n",
    "test_score = best_RF.score(X_test, y_test)\n",
    "train_score = best_RF.score(X_train, y_train)\n",
    "\n",
    "print(\"Test score: \", test_score)\n",
    "print(\"Training score: \", train_score)\n",
    "print(\"Best parameters: \", grid_search.best_params_)\n"
   ]
  },
  {
   "cell_type": "markdown",
   "id": "707bed90",
   "metadata": {
    "id": "707bed90"
   },
   "source": [
    "**Random Forest Final Model**"
   ]
  },
  {
   "cell_type": "code",
   "execution_count": null,
   "id": "f93f6ad4",
   "metadata": {
    "id": "f93f6ad4"
   },
   "outputs": [],
   "source": [
    "from sklearn.ensemble import RandomForestClassifier\n",
    "RF = RandomForestClassifier(n_estimators = 300, \n",
    "                             max_depth = None)\n",
    "\n",
    "RF.fit(X_train, y_train)\n",
    "y_pred = RF.predict(X_test)\n",
    "rf_accuracy_test = RF.score(X_test, y_test)\n",
    "rf_accuracy_train = RF.score(X_train, y_train)"
   ]
  },
  {
   "cell_type": "code",
   "execution_count": null,
   "id": "25a3890c",
   "metadata": {
    "id": "25a3890c",
    "outputId": "8dafc56f-91f8-4d4e-ac3d-0d786de10062"
   },
   "outputs": [
    {
     "name": "stdout",
     "output_type": "stream",
     "text": [
      "Random Forest Test score:  0.9175451263537906\n",
      "Random Forest Training score:  1.0\n"
     ]
    }
   ],
   "source": [
    "print(\"Random Forest Test score: \",rf_accuracy_test)\n",
    "print(\"Random Forest Training score: \", rf_accuracy_train)"
   ]
  },
  {
   "cell_type": "code",
   "execution_count": null,
   "id": "3a552658",
   "metadata": {
    "id": "3a552658",
    "outputId": "8063b98e-416b-4058-bd8c-b71295f2e4a4"
   },
   "outputs": [
    {
     "name": "stdout",
     "output_type": "stream",
     "text": [
      "Random Forest Precision: 0.916307480564785\n",
      "Random Forest Recall: 0.9175451263537906\n",
      "Random Forest F1 score: 0.9166060250124668\n"
     ]
    },
    {
     "name": "stderr",
     "output_type": "stream",
     "text": [
      "/Users/oliviawang/opt/anaconda3/envs/tf/lib/python3.10/site-packages/sklearn/metrics/_classification.py:1334: UndefinedMetricWarning: Precision is ill-defined and being set to 0.0 in labels with no predicted samples. Use `zero_division` parameter to control this behavior.\n",
      "  _warn_prf(average, modifier, msg_start, len(result))\n"
     ]
    }
   ],
   "source": [
    "## Check precision, recall and F1 score\n",
    "from sklearn.metrics import precision_score, recall_score, f1_score\n",
    "\n",
    "rf_precision = precision_score(y_test, y_pred, average='weighted')\n",
    "rf_recall = recall_score(y_test, y_pred, average='weighted')\n",
    "rf_f1 = f1_score(y_test, y_pred, average='weighted')\n",
    "\n",
    "\n",
    "print(\"Random Forest Precision:\", rf_precision)\n",
    "print(\"Random Forest Recall:\", rf_recall)\n",
    "print(\"Random Forest F1 score:\", rf_f1)\n"
   ]
  },
  {
   "cell_type": "markdown",
   "id": "aa0923f5",
   "metadata": {
    "id": "aa0923f5"
   },
   "source": [
    "- The precision of the Random Forest model is about 0.9198, indicating that out of all the instances predicted as positive by the model, approximately 91.98% of them are actually true positives.\n",
    "- The recall of the Random Forest model is also around 0.9208, suggesting that the model is able to correctly identify approximately 92.08% of the positive instances in the test data\n",
    "\n"
   ]
  },
  {
   "cell_type": "markdown",
   "id": "a3394e5c",
   "metadata": {
    "id": "a3394e5c"
   },
   "source": [
    "## 2-b. Gradient Boosting Classifier"
   ]
  },
  {
   "cell_type": "markdown",
   "id": "6ebbe2ab",
   "metadata": {
    "id": "6ebbe2ab"
   },
   "source": [
    "**Initial Model**"
   ]
  },
  {
   "cell_type": "code",
   "execution_count": null,
   "id": "8066ce60",
   "metadata": {
    "id": "8066ce60"
   },
   "outputs": [],
   "source": [
    "from sklearn.ensemble import GradientBoostingClassifier\n",
    "\n",
    "GB = GradientBoostingClassifier(max_depth=5,  n_estimators=100)\n",
    "\n",
    "GB.fit(X_train, y_train)\n",
    "prediction = GB.predict(X_test)\n",
    "\n"
   ]
  },
  {
   "cell_type": "code",
   "execution_count": null,
   "id": "fb44e53f",
   "metadata": {
    "id": "fb44e53f",
    "outputId": "979b5dc2-188e-416c-d4b6-1672dec302fc"
   },
   "outputs": [
    {
     "name": "stdout",
     "output_type": "stream",
     "text": [
      "Test score:  0.9539350180505415\n",
      "Training score:  0.9963893703061814\n"
     ]
    }
   ],
   "source": [
    "print(\"Test score: \",GB.score(X_test, y_test))\n",
    "print(\"Training score: \", GB.score(X_train, y_train))"
   ]
  },
  {
   "cell_type": "markdown",
   "id": "ed17130e",
   "metadata": {
    "id": "ed17130e"
   },
   "source": [
    "**Hyperparameter tuning with cross validation**"
   ]
  },
  {
   "cell_type": "code",
   "execution_count": null,
   "id": "58bdf612",
   "metadata": {
    "collapsed": true,
    "id": "58bdf612",
    "outputId": "20d0e52c-16b0-49d5-f0f9-ffc61980acd4"
   },
   "outputs": [
    {
     "name": "stderr",
     "output_type": "stream",
     "text": [
      "/Users/oliviawang/opt/anaconda3/envs/tf/lib/python3.10/site-packages/sklearn/model_selection/_split.py:684: UserWarning: The least populated class in y has only 4 members, which is less than n_splits=5.\n",
      "  warnings.warn(\n"
     ]
    },
    {
     "name": "stdout",
     "output_type": "stream",
     "text": [
      "Mean CV score: 0.870269953196989 Parameters: {'learning_rate': 0.1, 'max_depth': 3, 'n_estimators': 50}\n",
      "Mean CV score: 0.9141751596653334 Parameters: {'learning_rate': 0.1, 'max_depth': 3, 'n_estimators': 100}\n",
      "Mean CV score: 0.9293398240112938 Parameters: {'learning_rate': 0.1, 'max_depth': 3, 'n_estimators': 150}\n",
      "Mean CV score: 0.937463779970449 Parameters: {'learning_rate': 0.1, 'max_depth': 3, 'n_estimators': 200}\n",
      "Mean CV score: 0.7562756508981603 Parameters: {'learning_rate': 0.1, 'max_depth': 3, 'n_estimators': 250}\n",
      "Mean CV score: 0.9369583517727593 Parameters: {'learning_rate': 0.1, 'max_depth': 5, 'n_estimators': 50}\n",
      "Mean CV score: 0.9505342816901224 Parameters: {'learning_rate': 0.1, 'max_depth': 5, 'n_estimators': 100}\n",
      "Mean CV score: 0.9545782026105666 Parameters: {'learning_rate': 0.1, 'max_depth': 5, 'n_estimators': 150}\n",
      "Mean CV score: 0.9572862140007548 Parameters: {'learning_rate': 0.1, 'max_depth': 5, 'n_estimators': 200}\n",
      "Mean CV score: 0.9573223085661697 Parameters: {'learning_rate': 0.1, 'max_depth': 5, 'n_estimators': 250}\n",
      "Mean CV score: 0.9484040831569776 Parameters: {'learning_rate': 0.1, 'max_depth': 7, 'n_estimators': 50}\n",
      "Mean CV score: 0.955011526406453 Parameters: {'learning_rate': 0.1, 'max_depth': 7, 'n_estimators': 100}\n",
      "Mean CV score: 0.9575028596046543 Parameters: {'learning_rate': 0.1, 'max_depth': 7, 'n_estimators': 150}\n",
      "Mean CV score: 0.9583694094321655 Parameters: {'learning_rate': 0.1, 'max_depth': 7, 'n_estimators': 200}\n",
      "Mean CV score: 0.959416445121987 Parameters: {'learning_rate': 0.1, 'max_depth': 7, 'n_estimators': 250}\n",
      "Mean CV score: 0.9485485657005167 Parameters: {'learning_rate': 0.1, 'max_depth': 9, 'n_estimators': 50}\n",
      "Mean CV score: 0.9556614306300645 Parameters: {'learning_rate': 0.1, 'max_depth': 9, 'n_estimators': 100}\n",
      "Mean CV score: 0.9593443081320965 Parameters: {'learning_rate': 0.1, 'max_depth': 9, 'n_estimators': 150}\n",
      "Mean CV score: 0.9609690719499342 Parameters: {'learning_rate': 0.1, 'max_depth': 9, 'n_estimators': 200}\n",
      "Mean CV score: 0.9617995402472654 Parameters: {'learning_rate': 0.1, 'max_depth': 9, 'n_estimators': 250}\n",
      "Mean CV score: 0.9468515019523522 Parameters: {'learning_rate': 0.1, 'max_depth': 11, 'n_estimators': 50}\n",
      "Mean CV score: 0.9548671416271753 Parameters: {'learning_rate': 0.1, 'max_depth': 11, 'n_estimators': 100}\n",
      "Mean CV score: 0.957647244383932 Parameters: {'learning_rate': 0.1, 'max_depth': 11, 'n_estimators': 150}\n",
      "Mean CV score: 0.95901928106769 Parameters: {'learning_rate': 0.1, 'max_depth': 11, 'n_estimators': 200}\n",
      "Mean CV score: 0.96021087751246 Parameters: {'learning_rate': 0.1, 'max_depth': 11, 'n_estimators': 250}\n",
      "Mean CV score: 0.8117415595224671 Parameters: {'learning_rate': 0.05, 'max_depth': 3, 'n_estimators': 50}\n",
      "Mean CV score: 0.8698727630722225 Parameters: {'learning_rate': 0.05, 'max_depth': 3, 'n_estimators': 100}\n",
      "Mean CV score: 0.8965553414156133 Parameters: {'learning_rate': 0.05, 'max_depth': 3, 'n_estimators': 150}\n",
      "Mean CV score: 0.9131642706818667 Parameters: {'learning_rate': 0.05, 'max_depth': 3, 'n_estimators': 200}\n",
      "Mean CV score: 0.9248987781422574 Parameters: {'learning_rate': 0.05, 'max_depth': 3, 'n_estimators': 250}\n",
      "Mean CV score: 0.8943888658237651 Parameters: {'learning_rate': 0.05, 'max_depth': 5, 'n_estimators': 50}\n",
      "Mean CV score: 0.9367778072518922 Parameters: {'learning_rate': 0.05, 'max_depth': 5, 'n_estimators': 100}\n",
      "Mean CV score: 0.9463459629551659 Parameters: {'learning_rate': 0.05, 'max_depth': 5, 'n_estimators': 150}\n",
      "Mean CV score: 0.9518702238084655 Parameters: {'learning_rate': 0.05, 'max_depth': 5, 'n_estimators': 200}\n",
      "Mean CV score: 0.9546865710358384 Parameters: {'learning_rate': 0.05, 'max_depth': 5, 'n_estimators': 250}\n",
      "Mean CV score: 0.925404304104209 Parameters: {'learning_rate': 0.05, 'max_depth': 7, 'n_estimators': 50}\n",
      "Mean CV score: 0.948151388610985 Parameters: {'learning_rate': 0.05, 'max_depth': 7, 'n_estimators': 100}\n",
      "Mean CV score: 0.9530256996173506 Parameters: {'learning_rate': 0.05, 'max_depth': 7, 'n_estimators': 150}\n",
      "Mean CV score: 0.9550836959844308 Parameters: {'learning_rate': 0.05, 'max_depth': 7, 'n_estimators': 200}\n",
      "Mean CV score: 0.9568168412627754 Parameters: {'learning_rate': 0.05, 'max_depth': 7, 'n_estimators': 250}\n",
      "Mean CV score: 0.9372472516836634 Parameters: {'learning_rate': 0.05, 'max_depth': 9, 'n_estimators': 50}\n",
      "Mean CV score: 0.9488374069528639 Parameters: {'learning_rate': 0.05, 'max_depth': 9, 'n_estimators': 100}\n",
      "Mean CV score: 0.9533145473873154 Parameters: {'learning_rate': 0.05, 'max_depth': 9, 'n_estimators': 150}\n",
      "Mean CV score: 0.9559864511768537 Parameters: {'learning_rate': 0.05, 'max_depth': 9, 'n_estimators': 200}\n",
      "Mean CV score: 0.9575389932757741 Parameters: {'learning_rate': 0.05, 'max_depth': 9, 'n_estimators': 250}\n",
      "Mean CV score: 0.9370666485042394 Parameters: {'learning_rate': 0.05, 'max_depth': 11, 'n_estimators': 50}\n",
      "Mean CV score: 0.9467071367259271 Parameters: {'learning_rate': 0.05, 'max_depth': 11, 'n_estimators': 100}\n",
      "Mean CV score: 0.9523396943107066 Parameters: {'learning_rate': 0.05, 'max_depth': 11, 'n_estimators': 150}\n",
      "Mean CV score: 0.9556975773364191 Parameters: {'learning_rate': 0.05, 'max_depth': 11, 'n_estimators': 200}\n",
      "Mean CV score: 0.9575750878411892 Parameters: {'learning_rate': 0.05, 'max_depth': 11, 'n_estimators': 250}\n",
      "Mean CV score: 0.6960930859158849 Parameters: {'learning_rate': 0.01, 'max_depth': 3, 'n_estimators': 50}\n",
      "Mean CV score: 0.7412258009011257 Parameters: {'learning_rate': 0.01, 'max_depth': 3, 'n_estimators': 100}\n",
      "Mean CV score: 0.7617703869444302 Parameters: {'learning_rate': 0.01, 'max_depth': 3, 'n_estimators': 150}\n",
      "Mean CV score: 0.7868643155882509 Parameters: {'learning_rate': 0.01, 'max_depth': 3, 'n_estimators': 200}\n",
      "Mean CV score: 0.8111277824523577 Parameters: {'learning_rate': 0.01, 'max_depth': 3, 'n_estimators': 250}\n",
      "Mean CV score: 0.7688474049780258 Parameters: {'learning_rate': 0.01, 'max_depth': 5, 'n_estimators': 50}\n",
      "Mean CV score: 0.8177712029501343 Parameters: {'learning_rate': 0.01, 'max_depth': 5, 'n_estimators': 100}\n",
      "Mean CV score: 0.8443093899966303 Parameters: {'learning_rate': 0.01, 'max_depth': 5, 'n_estimators': 150}\n",
      "Mean CV score: 0.8704142728000923 Parameters: {'learning_rate': 0.01, 'max_depth': 5, 'n_estimators': 200}\n",
      "Mean CV score: 0.8937389420473009 Parameters: {'learning_rate': 0.01, 'max_depth': 5, 'n_estimators': 250}\n",
      "Mean CV score: 0.8444538334344651 Parameters: {'learning_rate': 0.01, 'max_depth': 7, 'n_estimators': 50}\n",
      "Mean CV score: 0.8825821040563696 Parameters: {'learning_rate': 0.01, 'max_depth': 7, 'n_estimators': 100}\n",
      "Mean CV score: 0.9044986225015528 Parameters: {'learning_rate': 0.01, 'max_depth': 7, 'n_estimators': 150}\n",
      "Mean CV score: 0.9169554188449087 Parameters: {'learning_rate': 0.01, 'max_depth': 7, 'n_estimators': 200}\n",
      "Mean CV score: 0.9258737941593024 Parameters: {'learning_rate': 0.01, 'max_depth': 7, 'n_estimators': 250}\n",
      "Mean CV score: 0.8857956544437442 Parameters: {'learning_rate': 0.01, 'max_depth': 9, 'n_estimators': 50}\n",
      "Mean CV score: 0.9112145319405618 Parameters: {'learning_rate': 0.01, 'max_depth': 9, 'n_estimators': 100}\n",
      "Mean CV score: 0.9230212285317828 Parameters: {'learning_rate': 0.01, 'max_depth': 9, 'n_estimators': 150}\n",
      "Mean CV score: 0.9316867985006873 Parameters: {'learning_rate': 0.01, 'max_depth': 9, 'n_estimators': 200}\n",
      "Mean CV score: 0.9366695626613517 Parameters: {'learning_rate': 0.01, 'max_depth': 9, 'n_estimators': 250}\n",
      "Mean CV score: 0.9003464439553335 Parameters: {'learning_rate': 0.01, 'max_depth': 11, 'n_estimators': 50}\n",
      "Mean CV score: 0.9180385360649101 Parameters: {'learning_rate': 0.01, 'max_depth': 11, 'n_estimators': 100}\n",
      "Mean CV score: 0.9256210148842829 Parameters: {'learning_rate': 0.01, 'max_depth': 11, 'n_estimators': 150}\n",
      "Mean CV score: 0.9302786802867491 Parameters: {'learning_rate': 0.01, 'max_depth': 11, 'n_estimators': 200}\n",
      "Mean CV score: 0.9354780770160783 Parameters: {'learning_rate': 0.01, 'max_depth': 11, 'n_estimators': 250}\n",
      "Mean CV score: 0.3668038712040581 Parameters: {'learning_rate': 0.001, 'max_depth': 3, 'n_estimators': 50}\n",
      "Mean CV score: 0.3668038712040581 Parameters: {'learning_rate': 0.001, 'max_depth': 3, 'n_estimators': 100}\n",
      "Mean CV score: 0.3668038712040581 Parameters: {'learning_rate': 0.001, 'max_depth': 3, 'n_estimators': 150}\n",
      "Mean CV score: 0.618934095807673 Parameters: {'learning_rate': 0.001, 'max_depth': 3, 'n_estimators': 200}\n",
      "Mean CV score: 0.6312824194438778 Parameters: {'learning_rate': 0.001, 'max_depth': 3, 'n_estimators': 250}\n",
      "Mean CV score: 0.3668038712040581 Parameters: {'learning_rate': 0.001, 'max_depth': 5, 'n_estimators': 50}\n",
      "Mean CV score: 0.3668038712040581 Parameters: {'learning_rate': 0.001, 'max_depth': 5, 'n_estimators': 100}\n",
      "Mean CV score: 0.47154862501083555 Parameters: {'learning_rate': 0.001, 'max_depth': 5, 'n_estimators': 150}\n",
      "Mean CV score: 0.6275997374703693 Parameters: {'learning_rate': 0.001, 'max_depth': 5, 'n_estimators': 200}\n",
      "Mean CV score: 0.6637417511404202 Parameters: {'learning_rate': 0.001, 'max_depth': 5, 'n_estimators': 250}\n",
      "Mean CV score: 0.3668038712040581 Parameters: {'learning_rate': 0.001, 'max_depth': 7, 'n_estimators': 50}\n",
      "Mean CV score: 0.3668038712040581 Parameters: {'learning_rate': 0.001, 'max_depth': 7, 'n_estimators': 100}\n",
      "Mean CV score: 0.4817302775266684 Parameters: {'learning_rate': 0.001, 'max_depth': 7, 'n_estimators': 150}\n",
      "Mean CV score: 0.65930114846937 Parameters: {'learning_rate': 0.001, 'max_depth': 7, 'n_estimators': 200}\n",
      "Mean CV score: 0.7017258194763354 Parameters: {'learning_rate': 0.001, 'max_depth': 7, 'n_estimators': 250}\n",
      "Mean CV score: 0.3668038712040581 Parameters: {'learning_rate': 0.001, 'max_depth': 9, 'n_estimators': 50}\n",
      "Mean CV score: 0.3668038712040581 Parameters: {'learning_rate': 0.001, 'max_depth': 9, 'n_estimators': 100}\n",
      "Mean CV score: 0.52671881629639 Parameters: {'learning_rate': 0.001, 'max_depth': 9, 'n_estimators': 150}\n",
      "Mean CV score: 0.6784372708650117 Parameters: {'learning_rate': 0.001, 'max_depth': 9, 'n_estimators': 200}\n",
      "Mean CV score: 0.7457755150058365 Parameters: {'learning_rate': 0.001, 'max_depth': 9, 'n_estimators': 250}\n",
      "Mean CV score: 0.3668038712040581 Parameters: {'learning_rate': 0.001, 'max_depth': 11, 'n_estimators': 50}\n",
      "Mean CV score: 0.3668038712040581 Parameters: {'learning_rate': 0.001, 'max_depth': 11, 'n_estimators': 100}\n",
      "Mean CV score: 0.5427858773658136 Parameters: {'learning_rate': 0.001, 'max_depth': 11, 'n_estimators': 150}\n",
      "Mean CV score: 0.6954433185622395 Parameters: {'learning_rate': 0.001, 'max_depth': 11, 'n_estimators': 200}\n",
      "Mean CV score: 0.7924609089599642 Parameters: {'learning_rate': 0.001, 'max_depth': 11, 'n_estimators': 250}\n"
     ]
    },
    {
     "name": "stdout",
     "output_type": "stream",
     "text": [
      "Test score: 0.9653429602888086\n",
      "Training score: 1.0\n",
      "Best parameters: {'learning_rate': 0.1, 'max_depth': 9, 'n_estimators': 250}\n"
     ]
    },
    {
     "ename": "NameError",
     "evalue": "name 'best_score' is not defined",
     "output_type": "error",
     "traceback": [
      "\u001b[0;31m---------------------------------------------------------------------------\u001b[0m",
      "\u001b[0;31mNameError\u001b[0m                                 Traceback (most recent call last)",
      "Cell \u001b[0;32mIn[18], line 32\u001b[0m\n\u001b[1;32m     30\u001b[0m \u001b[38;5;28mprint\u001b[39m(\u001b[38;5;124m\"\u001b[39m\u001b[38;5;124mTraining score:\u001b[39m\u001b[38;5;124m\"\u001b[39m, best_GB\u001b[38;5;241m.\u001b[39mscore(X_train, y_train))\n\u001b[1;32m     31\u001b[0m \u001b[38;5;28mprint\u001b[39m(\u001b[38;5;124m\"\u001b[39m\u001b[38;5;124mBest parameters:\u001b[39m\u001b[38;5;124m\"\u001b[39m, grid_search\u001b[38;5;241m.\u001b[39mbest_params_)\n\u001b[0;32m---> 32\u001b[0m \u001b[38;5;28mprint\u001b[39m(\u001b[38;5;124m\"\u001b[39m\u001b[38;5;124mBest CV score:\u001b[39m\u001b[38;5;124m\"\u001b[39m, \u001b[43mbest_score\u001b[49m)\n",
      "\u001b[0;31mNameError\u001b[0m: name 'best_score' is not defined"
     ]
    }
   ],
   "source": [
    "from sklearn.ensemble import GradientBoostingClassifier\n",
    "from sklearn.model_selection import GridSearchCV\n",
    "\n",
    "# hyperparameter grid\n",
    "param_grid = {\n",
    "    'learning_rate': [0.1, 0.05, 0.01, 0.001],\n",
    "    'max_depth': [3, 5, 7, 9, 11],\n",
    "    'n_estimators': [50, 100, 150, 200, 250]\n",
    "}\n",
    "\n",
    "\n",
    "GB = GradientBoostingClassifier()\n",
    "grid_search = GridSearchCV(GB, param_grid, cv=5)\n",
    "grid_search.fit(X_train, y_train)\n",
    "\n",
    "# print the cross-validation scores\n",
    "cv_results = grid_search.cv_results_\n",
    "for mean_score, params in zip(cv_results[\"mean_test_score\"], cv_results[\"params\"]):\n",
    "    print(\"Mean CV score:\", mean_score, \"Parameters:\", params)\n",
    "\n",
    "\n",
    "best_GB = grid_search.best_estimator_\n",
    "best_cv_score = grid_search.best_score_\n",
    "\n",
    "# predict the test \n",
    "prediction = best_GB.predict(X_test)\n",
    "\n",
    "\n",
    "# print(\"Test score:\", best_GB.score(X_test, y_test))\n",
    "# print(\"Training score:\", best_GB.score(X_train, y_train))\n",
    "# print(\"Best parameters:\", grid_search.best_params_)\n",
    "# print(\"Best CV score:\", best_score) # the mean cross-validation score of the best model.\n"
   ]
  },
  {
   "cell_type": "code",
   "execution_count": null,
   "id": "c1cff112",
   "metadata": {
    "id": "c1cff112",
    "outputId": "67eac2a4-8f0f-4090-ec04-e8b2cee9577d"
   },
   "outputs": [
    {
     "name": "stdout",
     "output_type": "stream",
     "text": [
      "Test score: 0.9653429602888086\n",
      "Training score: 1.0\n",
      "Best parameters: {'learning_rate': 0.1, 'max_depth': 9, 'n_estimators': 250}\n",
      "Best CV score: 0.9617995402472654\n"
     ]
    }
   ],
   "source": [
    "print(\"Test score:\", best_GB.score(X_test, y_test))\n",
    "print(\"Training score:\", best_GB.score(X_train, y_train))\n",
    "print(\"Best parameters:\", grid_search.best_params_)\n",
    "print(\"Best CV score:\", best_cv_score) # the mean cross-validation score of the best model.\n"
   ]
  },
  {
   "cell_type": "markdown",
   "id": "9a17085f",
   "metadata": {
    "id": "9a17085f"
   },
   "source": [
    "**Gradient Boost Final Model**"
   ]
  },
  {
   "cell_type": "code",
   "execution_count": null,
   "id": "e2b1a41b",
   "metadata": {
    "id": "e2b1a41b",
    "outputId": "4ddfff29-c0b8-4e0b-95e8-db564d9889f5"
   },
   "outputs": [
    {
     "name": "stdout",
     "output_type": "stream",
     "text": [
      "Test score:  0.9653429602888086\n",
      "Training score:  1.0\n"
     ]
    }
   ],
   "source": [
    "from sklearn.ensemble import GradientBoostingClassifier\n",
    "GB = GradientBoostingClassifier(learning_rate=0.1, max_depth=9, n_estimators=250)\n",
    "\n",
    "GB.fit(X_train, y_train)\n",
    "prediction = GB.predict(X_test)\n",
    "gb_accuracy_test = GB.score(X_test, y_test)\n",
    "gb_accuracy_train = GB.score(X_train, y_train)\n",
    "\n",
    "print(\"Test score: \", gb_accuracy_test)\n",
    "print(\"Training score: \", gb_accuracy_train)\n"
   ]
  },
  {
   "cell_type": "code",
   "execution_count": null,
   "id": "ce9fe755",
   "metadata": {
    "id": "ce9fe755",
    "outputId": "67a7c106-7bfd-4581-d672-8d47baf17e7b"
   },
   "outputs": [
    {
     "name": "stdout",
     "output_type": "stream",
     "text": [
      "Gradient Boosting Classifier Precision: 0.9651206205275857\n",
      "Gradient Boosting Classifier Recall: 0.9653429602888086\n",
      "Gradient Boosting Classifier F1 score: 0.9651913236259004\n"
     ]
    }
   ],
   "source": [
    "## Check precision, recall, and F1 score\n",
    "gb_precision = precision_score(y_test, prediction, average='weighted')\n",
    "gb_recall = recall_score(y_test, prediction, average='weighted')\n",
    "gb_f1 = f1_score(y_test, prediction, average='weighted')\n",
    "\n",
    "print(\"Gradient Boosting Classifier Precision:\", gb_precision)\n",
    "print(\"Gradient Boosting Classifier Recall:\", gb_recall)\n",
    "print(\"Gradient Boosting Classifier F1 score:\", gb_f1)\n"
   ]
  },
  {
   "cell_type": "markdown",
   "id": "e4766677",
   "metadata": {
    "id": "e4766677"
   },
   "source": [
    "- The precision score of 0.9637 indicates that out of all instances predicted as positive by the model, approximately 96.37% of them are actually true positives. This indicates a high level of accuracy in predicting positive instances.\n",
    "\n",
    "- The recall score of 0.9639 also suggests that the model correctly identifies approximately 96.39% of the positive instances present in the test data. This indicates a high level of sensitivity in detecting positive instances."
   ]
  },
  {
   "cell_type": "markdown",
   "id": "76880b25",
   "metadata": {
    "id": "76880b25"
   },
   "source": [
    "## 2-c. Nueral Network"
   ]
  },
  {
   "cell_type": "code",
   "execution_count": null,
   "id": "e3184df6",
   "metadata": {
    "id": "e3184df6"
   },
   "outputs": [],
   "source": [
    "from sklearn.neural_network import MLPClassifier\n",
    "\n",
    "MLP = MLPClassifier(solver='adam', activation='logistic', alpha=0.4, tol=1e-5,\n",
    "                        hidden_layer_sizes=(100, 20), max_iter=500)\n",
    "MLP.fit(X_train, y_train)\n",
    "prediction = MLP.predict(X_test)\n"
   ]
  },
  {
   "cell_type": "code",
   "execution_count": null,
   "id": "67977ead",
   "metadata": {
    "id": "67977ead",
    "outputId": "6cdf62a5-6bad-4a82-d8d0-3397d98a8c6d"
   },
   "outputs": [
    {
     "name": "stdout",
     "output_type": "stream",
     "text": [
      "Test score:  0.7327075812274368\n",
      "Training score:  0.7349436741767764\n"
     ]
    }
   ],
   "source": [
    "print(\"Test score: \",MLP.score(X_test, y_test))\n",
    "print(\"Training score: \", MLP.score(X_train, y_train))"
   ]
  },
  {
   "cell_type": "markdown",
   "id": "9005f7ce",
   "metadata": {
    "id": "9005f7ce"
   },
   "source": [
    "**Hyperparameter tuning with cross validation**"
   ]
  },
  {
   "cell_type": "code",
   "execution_count": null,
   "id": "e90c4d28",
   "metadata": {
    "id": "e90c4d28",
    "outputId": "2ac44ad8-5bff-4560-9591-60e1981504be"
   },
   "outputs": [
    {
     "name": "stderr",
     "output_type": "stream",
     "text": [
      "/Users/oliviawang/opt/anaconda3/envs/tf/lib/python3.10/site-packages/sklearn/model_selection/_split.py:684: UserWarning: The least populated class in y has only 4 members, which is less than n_splits=5.\n",
      "  warnings.warn(\n"
     ]
    },
    {
     "name": "stdout",
     "output_type": "stream",
     "text": [
      "Test score: 0.8324909747292418\n",
      "Training score: 0.826473136915078\n",
      "Best parameters: {'activation': 'relu', 'alpha': 0.2, 'hidden_layer_sizes': (100, 50), 'max_iter': 400, 'solver': 'adam'}\n"
     ]
    }
   ],
   "source": [
    "from sklearn.neural_network import MLPClassifier\n",
    "from sklearn.model_selection import GridSearchCV\n",
    "\n",
    "# Define the parameter grid for hyperparameter tuning\n",
    "param_grid = {\n",
    "    'solver': ['adam'],\n",
    "    'activation': ['logistic', 'relu'],\n",
    "    'alpha': [0.1, 0.2, 0.3],\n",
    "    'hidden_layer_sizes': [(100,), (100, 50), (50, 20)],\n",
    "    'max_iter': [200, 300, 400]\n",
    "}\n",
    "\n",
    "\n",
    "mlp = MLPClassifier()\n",
    "grid_search = GridSearchCV(mlp, param_grid, cv=5)\n",
    "\n",
    "grid_search.fit(X_train, y_train)\n",
    "\n",
    "best_model = grid_search.best_estimator_\n",
    "best_params = grid_search.best_params_\n",
    "\n",
    "\n",
    "test_score = best_model.score(X_test, y_test)\n",
    "train_score = best_model.score(X_train, y_train)\n",
    "\n",
    "print(\"Test score:\", test_score)\n",
    "print(\"Training score:\", train_score)\n",
    "print(\"Best parameters:\", best_params)\n"
   ]
  },
  {
   "cell_type": "markdown",
   "id": "45dbf66c",
   "metadata": {
    "id": "45dbf66c"
   },
   "source": [
    "**Neural Network Final Model**"
   ]
  },
  {
   "cell_type": "code",
   "execution_count": null,
   "id": "e3d69c93",
   "metadata": {
    "id": "e3d69c93",
    "outputId": "8cc2546d-c7fa-46fb-8425-a3eed7f01013"
   },
   "outputs": [
    {
     "name": "stdout",
     "output_type": "stream",
     "text": [
      "Test score:  0.9653429602888086\n",
      "Training score:  1.0\n"
     ]
    }
   ],
   "source": [
    "from sklearn.neural_network import MLPClassifier\n",
    "MLP = MLPClassifier(solver='adam', activation='relu', alpha=0.2,\n",
    "                        hidden_layer_sizes=(100, 50), max_iter=400)\n",
    "MLP.fit(X_train, y_train)\n",
    "prediction = MLP.predict(X_test)\n",
    "mlp_accuracy_test = GB.score(X_test, y_test)\n",
    "mlp_accuracy_train = GB.score(X_train, y_train)\n",
    "\n",
    "print(\"Test score: \", mlp_accuracy_test)\n",
    "print(\"Training score: \", mlp_accuracy_train)"
   ]
  },
  {
   "cell_type": "code",
   "execution_count": null,
   "id": "8e73ea0a",
   "metadata": {
    "id": "8e73ea0a",
    "outputId": "f6912a82-e133-4125-a703-80ee4bb29d00"
   },
   "outputs": [
    {
     "name": "stdout",
     "output_type": "stream",
     "text": [
      "Nerual Network Precision: 0.9033227026757465\n",
      "Nerual Network Recall: 0.9044043321299639\n",
      "Nerual Network F1 score: 0.8966944594981276\n"
     ]
    },
    {
     "name": "stderr",
     "output_type": "stream",
     "text": [
      "/Users/oliviawang/opt/anaconda3/envs/tf/lib/python3.10/site-packages/sklearn/metrics/_classification.py:1334: UndefinedMetricWarning: Precision is ill-defined and being set to 0.0 in labels with no predicted samples. Use `zero_division` parameter to control this behavior.\n",
      "  _warn_prf(average, modifier, msg_start, len(result))\n"
     ]
    }
   ],
   "source": [
    "## Check precision and recall \n",
    "mlp_precision = precision_score(y_test, prediction, average='weighted')\n",
    "mlp_recall = recall_score(y_test, prediction, average='weighted')\n",
    "mlp_f1 = f1_score(y_test, prediction, average='weighted')\n",
    "\n",
    "print(\"Nerual Network Precision:\", mlp_precision)\n",
    "print(\"Nerual Network Recall:\", mlp_recall)\n",
    "print(\"Nerual Network F1 score:\", mlp_f1)\n"
   ]
  },
  {
   "cell_type": "markdown",
   "id": "cb8e76ea",
   "metadata": {
    "id": "cb8e76ea"
   },
   "source": [
    "- The precision score of 0.7391 suggests that out of all instances predicted as positive by the model, approximately 73.91% of them are actually true positives. This indicates the model's ability to correctly identify positive instances while minimizing false positives.\n",
    "\n",
    "- The recall score of 0.8296 suggests that the model correctly identifies approximately 82.96% of the positive instances present in the test data. This indicates the model's ability to capture a large portion of the positive instances and avoid false negatives.\n"
   ]
  },
  {
   "cell_type": "markdown",
   "id": "ef8d2947",
   "metadata": {
    "id": "ef8d2947"
   },
   "source": [
    "## 2-d. XGBoost"
   ]
  },
  {
   "cell_type": "code",
   "execution_count": null,
   "id": "be960de4",
   "metadata": {
    "id": "be960de4"
   },
   "outputs": [],
   "source": [
    "import xgboost as xgb\n",
    "\n",
    "first_XBG = xgb.XGBClassifier()\n",
    "\n",
    "first_XBG.fit(X_train, y_train)\n",
    "first_prediction = first_XBG.predict(X_test)\n",
    "\n",
    "xgb_accuracy_test = first_XBG.score(X_test, y_test)\n",
    "xgb_accuracy_train = first_XBG.score(X_train, y_train)"
   ]
  },
  {
   "cell_type": "code",
   "execution_count": null,
   "id": "764ec5df",
   "metadata": {
    "id": "764ec5df",
    "outputId": "56aaa821-5a41-4885-bef0-5e5deddc1f12"
   },
   "outputs": [
    {
     "name": "stdout",
     "output_type": "stream",
     "text": [
      "Test score:  0.9667870036101083\n",
      "Training score:  1.0\n"
     ]
    }
   ],
   "source": [
    "print(\"Test score: \", xgb_accuracy_test)\n",
    "print(\"Training score: \", xgb_accuracy_train)"
   ]
  },
  {
   "cell_type": "markdown",
   "id": "77a8fc44",
   "metadata": {
    "id": "77a8fc44"
   },
   "source": [
    "**Hyperparameter tuning with cross validation**"
   ]
  },
  {
   "cell_type": "code",
   "execution_count": null,
   "id": "53128fda",
   "metadata": {
    "id": "53128fda",
    "outputId": "2d3dcab8-e373-49d5-963d-b104a40b3e4f"
   },
   "outputs": [
    {
     "name": "stderr",
     "output_type": "stream",
     "text": [
      "/Users/oliviawang/opt/anaconda3/envs/tf/lib/python3.10/site-packages/sklearn/model_selection/_split.py:684: UserWarning: The least populated class in y has only 4 members, which is less than n_splits=5.\n",
      "  warnings.warn(\n"
     ]
    },
    {
     "name": "stdout",
     "output_type": "stream",
     "text": [
      "Test score: 0.9672202166064982\n",
      "Training score: 1.0\n",
      "Best parameters: {'learning_rate': 0.1, 'max_depth': 7, 'n_estimators': 300}\n"
     ]
    }
   ],
   "source": [
    "import xgboost as xgb\n",
    "from sklearn.model_selection import GridSearchCV\n",
    "param_grid = {\n",
    "    'max_depth': [3, 5, 7],\n",
    "    'n_estimators': [100, 200, 300],\n",
    "    'learning_rate': [0.1, 0.01, 0.001]\n",
    "}\n",
    "\n",
    "\n",
    "XBG = xgb.XGBClassifier()\n",
    "\n",
    "grid_search = GridSearchCV(XBG, param_grid, cv=5)\n",
    "\n",
    "grid_search.fit(X_train, y_train)\n",
    "\n",
    "best_model = grid_search.best_estimator_\n",
    "best_params = grid_search.best_params_\n",
    "\n",
    "test_score = best_model.score(X_test, y_test)\n",
    "train_score = best_model.score(X_train, y_train)\n",
    "\n",
    "print(\"Test score:\", test_score)\n",
    "print(\"Training score:\", train_score)\n",
    "print(\"Best parameters:\", best_params)\n"
   ]
  },
  {
   "cell_type": "markdown",
   "id": "f1fbd594",
   "metadata": {
    "id": "f1fbd594"
   },
   "source": [
    "Since the test score is very close to the test score from out initial model, we decided to choose the initial model for simplicity reason."
   ]
  },
  {
   "cell_type": "code",
   "execution_count": null,
   "id": "9d5524d2",
   "metadata": {
    "id": "9d5524d2",
    "outputId": "d4e69e84-a86a-4f13-fc79-67263cc39625"
   },
   "outputs": [
    {
     "name": "stdout",
     "output_type": "stream",
     "text": [
      "XGBoost Classifier Precision: 0.9665173789051178\n",
      "XGBoost Classifier Recall: 0.9667870036101083\n",
      "XGBoost Classifier F1 score: 0.9665544099826545\n"
     ]
    }
   ],
   "source": [
    "from sklearn.metrics import precision_score, recall_score\n",
    "\n",
    "xgb_precision = precision_score(y_test, first_prediction, average='weighted')\n",
    "xgb_recall = recall_score(y_test, first_prediction, average='weighted')\n",
    "xgb_f1 = f1_score(y_test, first_prediction, average = 'weighted')\n",
    "\n",
    "print(\"XGBoost Classifier Precision:\", xgb_precision)\n",
    "print(\"XGBoost Classifier Recall:\", xgb_recall)\n",
    "print(\"XGBoost Classifier F1 score:\", xgb_f1)\n"
   ]
  },
  {
   "cell_type": "markdown",
   "id": "f5d5c9eb",
   "metadata": {
    "id": "f5d5c9eb"
   },
   "source": [
    "# 3. Model Comparison"
   ]
  },
  {
   "cell_type": "code",
   "execution_count": null,
   "id": "d1dfc690",
   "metadata": {
    "id": "d1dfc690",
    "outputId": "f78d48a2-0853-4a84-a743-c9f2b159f664"
   },
   "outputs": [
    {
     "data": {
      "image/png": "[encoded data removed]",
      "text/plain": [
       "<Figure size 1000x600 with 4 Axes>"
      ]
     },
     "metadata": {},
     "output_type": "display_data"
    }
   ],
   "source": [
    "import matplotlib.pyplot as plt\n",
    "\n",
    "# Define the models and their corresponding performance metrics\n",
    "models = ['RandomForest', 'GradientBoosting', 'MLP', 'XGBoost']\n",
    "accuracies = [rf_accuracy_test, gb_accuracy_test, mlp_accuracy_test, xgb_accuracy_test]\n",
    "precisions = [rf_precision, gb_precision, mlp_precision, xgb_precision]\n",
    "recalls = [rf_recall, gb_recall, mlp_recall, xgb_recall]\n",
    "f1_scores = [rf_f1, gb_f1, mlp_f1, xgb_f1]\n",
    "\n",
    "# Plot the metrics\n",
    "plt.figure(figsize=(10, 6))\n",
    "\n",
    "# Accuracy\n",
    "plt.subplot(221)\n",
    "plt.bar(models, accuracies)\n",
    "plt.title('Accuracy')\n",
    "plt.ylim(0, 1)\n",
    "\n",
    "# Precision\n",
    "plt.subplot(222)\n",
    "plt.bar(models, precisions)\n",
    "plt.title('Precision')\n",
    "plt.ylim(0, 1)\n",
    "\n",
    "# Recall\n",
    "plt.subplot(223)\n",
    "plt.bar(models, recalls)\n",
    "plt.title('Recall')\n",
    "plt.ylim(0, 1)\n",
    "\n",
    "# F1-score\n",
    "plt.subplot(224)\n",
    "plt.bar(models, f1_scores)\n",
    "plt.title('F1-score')\n",
    "plt.ylim(0, 1)\n",
    "\n",
    "plt.tight_layout()\n",
    "plt.show()\n"
   ]
  },
  {
   "cell_type": "markdown",
   "id": "90d585cd",
   "metadata": {
    "id": "90d585cd"
   },
   "source": [
    "According to the above bar charts, gradient boosting classifier and XGBoost are the top 2 models with the best metrics. Although both Gradient Boosting and XGBoost show excellent performance, XGBoost is preferred since its initial model was picked. As a result, we chose the XGBoost model because to its performance, efficiency, and simplicity. "
   ]
  },
  {
   "cell_type": "code",
   "execution_count": null,
   "id": "b650e056",
   "metadata": {
    "id": "b650e056"
   },
   "outputs": [],
   "source": []
  }
 ],
 "metadata": {
  "colab": {
   "provenance": []
  },
  "kernelspec": {
   "display_name": "Python 3 (ipykernel)",
   "language": "python",
   "name": "python3"
  },
  "language_info": {
   "codemirror_mode": {
    "name": "ipython",
    "version": 3
   },
   "file_extension": ".py",
   "mimetype": "text/x-python",
   "name": "python",
   "nbconvert_exporter": "python",
   "pygments_lexer": "ipython3",
   "version": "3.10.8"
  }
 },
 "nbformat": 4,
 "nbformat_minor": 5
}
